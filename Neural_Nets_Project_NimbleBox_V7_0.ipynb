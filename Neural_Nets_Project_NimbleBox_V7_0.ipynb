{
 "cells": [
  {
   "cell_type": "markdown",
   "metadata": {
    "colab_type": "text",
    "id": "ziGpTHfDo2Su"
   },
   "source": [
    "# Gesture Recognition\n",
    "In this group project, you are going to build a 3D Conv model that will be able to predict the 5 gestures correctly. Please import the following libraries to get started."
   ]
  },
  {
   "cell_type": "code",
   "execution_count": 263,
   "metadata": {
    "colab": {},
    "colab_type": "code",
    "id": "J8l3aptso2Sz"
   },
   "outputs": [],
   "source": [
    "import numpy as np\n",
    "import os\n",
    "#from scipy.misc import imread, imresize\n",
    "import datetime\n",
    "import random as rn\n",
    "from keras import backend as K\n",
    "import tensorflow as tf\n",
    "import cv2\n",
    "#from google.colab.patches import cv2_imshow\n",
    "from matplotlib import pyplot as plt"
   ]
  },
  {
   "cell_type": "markdown",
   "metadata": {
    "colab_type": "text",
    "id": "pYg1wFf6o2S8"
   },
   "source": [
    "We set the random seed so that the results don't vary drastically."
   ]
  },
  {
   "cell_type": "code",
   "execution_count": 264,
   "metadata": {
    "colab": {},
    "colab_type": "code",
    "id": "0q1UQJ1So2S-"
   },
   "outputs": [],
   "source": [
    "np.random.seed(30)\n",
    "rn.seed(30)\n",
    "tf.set_random_seed(30)"
   ]
  },
  {
   "cell_type": "code",
   "execution_count": 265,
   "metadata": {
    "colab": {},
    "colab_type": "code",
    "id": "Y-pNl-BLBb_T"
   },
   "outputs": [],
   "source": [
    "#from google.colab import drive\n",
    "#drive.mount('/content/gdrive')"
   ]
  },
  {
   "cell_type": "markdown",
   "metadata": {
    "colab_type": "text",
    "id": "W_Xe66QYo2TL"
   },
   "source": [
    "## Generator\n",
    "This is one of the most important part of the code. The overall structure of the generator has been given. In the generator, you are going to preprocess the images as you have images of 2 different dimensions as well as create a batch of video frames. You have to experiment with `img_idx`, `y`,`z` and normalization such that you get high accuracy."
   ]
  },
  {
   "cell_type": "code",
   "execution_count": 266,
   "metadata": {
    "colab": {},
    "colab_type": "code",
    "id": "iCX3_FUaHLZF"
   },
   "outputs": [],
   "source": [
    "# Parameter Initialization\n",
    "rows = 120 # X dimension\n",
    "cols = 120 # Y Dimension\n",
    "channels = 3 # RGB channel\n",
    "frames= 30  # Total frames to be picked up"
   ]
  },
  {
   "cell_type": "code",
   "execution_count": 267,
   "metadata": {
    "colab": {},
    "colab_type": "code",
    "id": "t2fWtDFhXpl5"
   },
   "outputs": [],
   "source": [
    "# Enable this testing code for creating list of images for lesser frames \n",
    "#img_idx = [1,3,5,7,10,12, 13,15,17,20,22,24, 25,27,29]\n",
    "#len(img_idx)"
   ]
  },
  {
   "cell_type": "code",
   "execution_count": 268,
   "metadata": {
    "colab": {},
    "colab_type": "code",
    "id": "8s5KCqUwo2TN"
   },
   "outputs": [],
   "source": [
    "def generator(source_path, folder_list, batch_size):\n",
    "    print( 'Source path = ', source_path, '; batch size =', batch_size)\n",
    "    #img_idx = [1,3,5,7,10,12, 13,15,17,20,22,24, 25,27,29] #create a list of image numbers you want to use for a particular video\n",
    "    img_idx = [x for x in range(0, 30)]  # Enable this line after basic model testing with lesser frames\n",
    "    while True:\n",
    "        t = np.random.permutation(folder_list)\n",
    "        num_batches = len(folder_list)//batch_size # calculate the number of batches\n",
    "        #print('No of batches', num_batches)\n",
    "        for batch in range(num_batches): # we iterate over the number of batches\n",
    "            batch_data = np.zeros((batch_size,len(img_idx),rows,cols,channels)) # x is the number of images you use for each video, (y,z) is the final size of the input images and 3 is the number of channels RGB\n",
    "            batch_labels = np.zeros((batch_size,5)) # batch_labels is the one hot representation of the output\n",
    "            for folder in range(batch_size): # iterate over the batch_size\n",
    "                #print ('Batch no ',batch, 'Folder no',folder)\n",
    "                imgs = os.listdir(source_path+'/'+ t[folder + (batch*batch_size)].split(';')[0]) # read all the images in the folder\n",
    "                for idx,item in enumerate(img_idx): #  Iterate iver the frames/images of a folder to read them in\n",
    "                    filename = source_path+'/'+ t[folder + (batch*batch_size)].strip().split(';')[0]+'/'+imgs[item]\n",
    "                    #print('Reading file:', filename)\n",
    "                    image = cv2.imread(filename, cv2.IMREAD_COLOR)\n",
    "                    image = cv2.cvtColor(image, cv2.COLOR_BGR2RGB)\n",
    "                    h, w, c = image.shape\n",
    "                    #print('Old Image Shape:', image.shape)\n",
    "                    #cv2_imshow(image) # plt.imshow(image)\n",
    "                    \n",
    "                    #crop the images and resize them. Note that the images are of 2 different shape \n",
    "                    #and the conv3D will throw error if the inputs in a batch have different shapes\n",
    "                    if ((h != rows) | (w != cols)):\n",
    "                       image_crop  = image[0:120,20:140]\n",
    "                       image_resize =  cv2.resize(image, (rows,cols), interpolation = cv2.INTER_AREA)\n",
    "                       image_norm = image_resize\n",
    "                       #image_norm = image_resize - np.min(image_resize)/np.max(image_resize) - np.min(image_resize)\n",
    "                       #print('New Image Shape:', image_norm.shape)\n",
    "                       #cv2_imshow(image_norm)\n",
    "                    else:\n",
    "                       #image_norm = image - np.min(image)/np.max(image) - np.min(image)\n",
    "                       image_norm = image\n",
    "\n",
    "                    batch_data[folder,idx,:,:,0] = image_norm[:,:,0] #normalise and feed in the image\n",
    "                    batch_data[folder,idx,:,:,1] = image_norm[:,:,1] #normalise and feed in the image\n",
    "                    batch_data[folder,idx,:,:,2] = image_norm[:,:,2] #normalise and feed in the image\n",
    "                    \n",
    "                batch_labels[folder, int(t[folder + (batch*batch_size)].strip().split(';')[2])] = 1\n",
    "            yield batch_data, batch_labels #you yield the batch_data and the batch_labels, remember what does yield do\n",
    "\n",
    "        # write the code for the remaining data points which are left after full batches\n",
    "        if (len(folder_list) != batch_size*num_batches):\n",
    "          batch_size = len(folder_list) - (batch_size*num_batches)\n",
    "          batch_data = np.zeros((batch_size,len(img_idx),rows,cols,channels)) # x is the number of images you use for each video, (y,z) is the final size of the input images and 3 is the number of channels RGB\n",
    "          batch_labels = np.zeros((batch_size,5)) # batch_labels is the one hot representation of the output\n",
    "          for folder in range(batch_size): # iterate over the batch_size\n",
    "            #print ('Batch no ',batch, 'Folder no',folder)\n",
    "            imgs = os.listdir(source_path +'/'+ t[folder + (batch*batch_size)].split(';')[0]) # read all the images in the folder\n",
    "            for idx,item in enumerate(img_idx): #  Iterate iver the frames/images of a folder to read them in\n",
    "               filename = source_path+'/'+ t[folder + (batch*batch_size)].strip().split(';')[0]+'/'+imgs[item]\n",
    "               #print('Reading file:', filename)\n",
    "               image = cv2.imread(filename, cv2.IMREAD_COLOR)\n",
    "               image = cv2.cvtColor(image, cv2.COLOR_BGR2RGB)\n",
    "               h, w, c = image.shape\n",
    "               #print('Old Image Shape:', image.shape)\n",
    "               #cv2_imshow(image)\n",
    "               #crop the images and resize them. Note that the images are of 2 different shape \n",
    "               #and the conv3D will throw error if the inputs in a batch have different shapes\n",
    "\n",
    "               if ((h != rows) | (w != cols)):\n",
    "                  image_crop  = image[0:120,20:140]\n",
    "                  image_resize =  cv2.resize(image, (rows,cols), interpolation = cv2.INTER_AREA)\n",
    "                  image_norm = image_resize\n",
    "                  #image_norm = image_resize - np.min(image_resize)/np.max(image_resize) - np.min(image_resize)\n",
    "                  #print('New Image Shape:', image_norm.shape)\n",
    "                  #cv2_imshow(image_norm)\n",
    "               else:\n",
    "                   image_norm = image\n",
    "                   #image_norm = image - np.min(image)/np.max(image) - np.min(image)\n",
    "\n",
    "               batch_data[folder,idx,:,:,0] = image_norm[:,:,0] #normalise and feed in the image\n",
    "               batch_data[folder,idx,:,:,1] = image_norm[:,:,1] #normalise and feed in the image\n",
    "               batch_data[folder,idx,:,:,2] = image_norm[:,:,2] #normalise and feed in the image\n",
    "                    \n",
    "            batch_labels[folder, int(t[folder + (batch*batch_size)].strip().split(';')[2])] = 1\n",
    "          yield batch_data, batch_labels #you yield the batch_data and the batch_labels for remaining data\n",
    "      "
   ]
  },
  {
   "cell_type": "markdown",
   "metadata": {
    "colab_type": "text",
    "id": "zk5dSxUyo2TS"
   },
   "source": [
    "Note here that a video is represented above in the generator as (number of images, height, width, number of channels). Take this into consideration while creating the model architecture."
   ]
  },
  {
   "cell_type": "markdown",
   "metadata": {
    "colab_type": "text",
    "id": "A_yUA7Eio2TE"
   },
   "source": [
    "In this block, you read the folder names for training and validation. You also set the `batch_size` here. Note that you set the batch size in such a way that you are able to use the GPU in full capacity. You keep increasing the batch size until the machine throws an error."
   ]
  },
  {
   "cell_type": "code",
   "execution_count": 269,
   "metadata": {
    "colab": {},
    "colab_type": "code",
    "id": "IWAbgeGCo2TF"
   },
   "outputs": [],
   "source": [
    "train_doc = np.random.permutation(open('Project_data/train.csv').readlines())\n",
    "val_doc = np.random.permutation(open('Project_data/val.csv').readlines())"
   ]
  },
  {
   "cell_type": "code",
   "execution_count": 270,
   "metadata": {
    "colab": {},
    "colab_type": "code",
    "id": "xZ95rnhnHpFb"
   },
   "outputs": [],
   "source": [
    "# Code to be enabled for testing only\n",
    "#train_doc = open('./gdrive/My Drive/aAIML/06-Neural Networks/data/Copy of train.csv').readlines()\n",
    "#train_doc = open('./gdrive/My Drive/aAIML/06-Neural Networks/data/train.csv').readlines()\n",
    "#val_doc = open('./gdrive/My Drive/aAIML//06-Neural Networks/data/val.csv').readlines()"
   ]
  },
  {
   "cell_type": "code",
   "execution_count": 271,
   "metadata": {
    "colab": {
     "base_uri": "https://localhost:8080/",
     "height": 68
    },
    "colab_type": "code",
    "id": "9BqJNJyWo2TT",
    "outputId": "fab2d3f1-13bb-4ceb-a7ac-f0b3d4d1221f"
   },
   "outputs": [
    {
     "name": "stdout",
     "output_type": "stream",
     "text": [
      "# training sequences = 663\n",
      "# validation sequences = 100\n"
     ]
    }
   ],
   "source": [
    "curr_dt_time = datetime.datetime.now()\n",
    "train_path = 'Project_data/train'\n",
    "val_path = 'Project_data/val'\n",
    "num_train_sequences = len(train_doc)\n",
    "print('# training sequences =', num_train_sequences)\n",
    "num_val_sequences = len(val_doc)\n",
    "print('# validation sequences =', num_val_sequences)"
   ]
  },
  {
   "cell_type": "code",
   "execution_count": 272,
   "metadata": {
    "colab": {},
    "colab_type": "code",
    "id": "qh3NWem1J7XG"
   },
   "outputs": [],
   "source": [
    "#Code to be enabled for testing only\n",
    "#getData('./gdrive/My Drive/aAIML/06-Neural Networks/data/train', train_doc, batch_size)\n",
    "#train_path = './gdrive/My Drive/aAIML/06-Neural Networks/data/train'\n",
    "#val_path = './gdrive/My Drive/aAIML/06-Neural Networks/data/val'"
   ]
  },
  {
   "cell_type": "markdown",
   "metadata": {
    "colab_type": "text",
    "id": "34mplhqzo2Tc"
   },
   "source": [
    "## Models\n",
    "Here you make the model using different functionalities that Keras provides. Remember to use `Conv3D` and `MaxPooling3D` and not `Conv2D` and `Maxpooling2D` for a 3D convolution model. You would want to use `TimeDistributed` while building a Conv2D + RNN model. Also remember that the last layer is the softmax. Design the network in such a way that the model is able to give good accuracy on the least number of parameters so that it can fit in the memory of the webcam."
   ]
  },
  {
   "cell_type": "code",
   "execution_count": 273,
   "metadata": {
    "colab": {},
    "colab_type": "code",
    "id": "yUf5-y4F7zgf"
   },
   "outputs": [],
   "source": [
    "from keras.models import Sequential, Model\n",
    "from keras.layers import Dense, GRU, Flatten, TimeDistributed, Flatten, BatchNormalization, Activation, Dropout,LSTM\n",
    "from keras.layers.convolutional import Conv3D,Conv2D, MaxPooling3D,MaxPooling2D\n",
    "from keras.callbacks import ModelCheckpoint, ReduceLROnPlateau\n",
    "from keras import optimizers\n",
    "from keras.applications import ResNet50\n",
    "from keras.applications.resnet50 import preprocess_input\n",
    "from keras.layers.recurrent import LSTM, GRU\n",
    "from keras.optimizers import Adam\n",
    "import os\n",
    "import shutil\n",
    "import numpy as np\n",
    "import glob   \n",
    "import keras.backend as K\n",
    "from keras import layers\n",
    "from keras.layers import Input, Add, Dense, Activation, ZeroPadding2D, BatchNormalization, Flatten, Conv2D, AveragePooling2D, MaxPooling2D, GlobalAveragePooling2D\n",
    "from keras.models import Model, load_model\n",
    "from keras import optimizers\n",
    "from keras.preprocessing import image\n",
    "from keras.utils import layer_utils\n",
    "from keras.utils.data_utils import get_file\n",
    "from keras.applications.imagenet_utils import preprocess_input\n",
    "from IPython.display import SVG\n",
    "from keras.utils.vis_utils import model_to_dot\n",
    "from keras.utils import plot_model\n",
    "from keras.initializers import glorot_uniform\n",
    "from keras.layers import Dense, Dropout, Flatten\n",
    "from keras.preprocessing.image import ImageDataGenerator,load_img, img_to_array\n",
    "import scipy.misc"
   ]
  },
  {
   "cell_type": "code",
   "execution_count": null,
   "metadata": {},
   "outputs": [],
   "source": []
  },
  {
   "cell_type": "markdown",
   "metadata": {
    "colab_type": "text",
    "id": "kdUtxoWlRY9k"
   },
   "source": [
    "### Conv3D"
   ]
  },
  {
   "cell_type": "markdown",
   "metadata": {
    "colab_type": "text",
    "id": "YWr452BORg4w"
   },
   "source": [
    "#### Model"
   ]
  },
  {
   "cell_type": "code",
   "execution_count": 274,
   "metadata": {
    "colab": {},
    "colab_type": "code",
    "id": "pVRuM2o-o2Td"
   },
   "outputs": [],
   "source": [
    "featuremap = [8,16,32,64]\n",
    "dense = [256,128,5]\n",
    "classes = 5\n",
    "\n",
    "input_shape=(frames,rows,cols,channels)\n",
    "\n",
    "modelConv3D = Sequential()\n",
    "modelConv3D.add(Conv3D(featuremap[0], kernel_size=(3,3,3), input_shape=input_shape, padding='same', name=\"conv1\"))\n",
    "modelConv3D.add(BatchNormalization())\n",
    "modelConv3D.add(Activation('relu'))\n",
    "\n",
    "modelConv3D.add(MaxPooling3D(pool_size=(2,2,2)))\n",
    "\n",
    "modelConv3D.add(Conv3D(featuremap[1], kernel_size=(3,3,3), padding='same',name=\"conv2\"))\n",
    "modelConv3D.add(BatchNormalization())\n",
    "modelConv3D.add(Activation('relu'))\n",
    "\n",
    "modelConv3D.add(MaxPooling3D(pool_size=(2,2,2)))\n",
    "\n",
    "modelConv3D.add(Conv3D(featuremap[2], kernel_size=(1,3,3), padding='same',name=\"conv3\"))\n",
    "modelConv3D.add(BatchNormalization())\n",
    "modelConv3D.add(Activation('relu'))\n",
    "#modelConv3D.add(Dropout(0.25))\n",
    "\n",
    "modelConv3D.add(MaxPooling3D(pool_size=(2,2,2)))\n",
    "\n",
    "modelConv3D.add(Conv3D(featuremap[3], kernel_size=(1,3,3), padding='same',name=\"conv4\"))\n",
    "modelConv3D.add(BatchNormalization())\n",
    "modelConv3D.add(Activation('relu'))\n",
    "modelConv3D.add(Dropout(0.25))\n",
    "\n",
    "modelConv3D.add(MaxPooling3D(pool_size=(2,2,2)))\n",
    "\n",
    "\n",
    "modelConv3D.add(Flatten())\n",
    "\n",
    "modelConv3D.add(Dense(dense[0], activation='relu'))\n",
    "modelConv3D.add(Dropout(0.25))\n",
    "\n",
    "modelConv3D.add(Dense(dense[1], activation='relu'))\n",
    "modelConv3D.add(Dropout(0.25))\n",
    "\n",
    "#softmax layer\n",
    "modelConv3D.add(Dense(dense[2], activation='softmax'))"
   ]
  },
  {
   "cell_type": "markdown",
   "metadata": {
    "colab_type": "text",
    "id": "oris0_t87zhk"
   },
   "source": [
    "The next step is to `compile` the model. \n",
    "The `summary` of the model shows the total number of parameters you have to train."
   ]
  },
  {
   "cell_type": "code",
   "execution_count": 275,
   "metadata": {
    "colab": {},
    "colab_type": "code",
    "id": "CLHT8o8W7zhl",
    "outputId": "b9dbb8f5-f09d-4cb1-a16b-ba13ccef73ee"
   },
   "outputs": [
    {
     "name": "stdout",
     "output_type": "stream",
     "text": [
      "_________________________________________________________________\n",
      "Layer (type)                 Output Shape              Param #   \n",
      "=================================================================\n",
      "conv1 (Conv3D)               (None, 30, 120, 120, 8)   656       \n",
      "_________________________________________________________________\n",
      "batch_normalization_67 (Batc (None, 30, 120, 120, 8)   32        \n",
      "_________________________________________________________________\n",
      "activation_41 (Activation)   (None, 30, 120, 120, 8)   0         \n",
      "_________________________________________________________________\n",
      "max_pooling3d_41 (MaxPooling (None, 15, 60, 60, 8)     0         \n",
      "_________________________________________________________________\n",
      "conv2 (Conv3D)               (None, 15, 60, 60, 16)    3472      \n",
      "_________________________________________________________________\n",
      "batch_normalization_68 (Batc (None, 15, 60, 60, 16)    64        \n",
      "_________________________________________________________________\n",
      "activation_42 (Activation)   (None, 15, 60, 60, 16)    0         \n",
      "_________________________________________________________________\n",
      "max_pooling3d_42 (MaxPooling (None, 7, 30, 30, 16)     0         \n",
      "_________________________________________________________________\n",
      "conv3 (Conv3D)               (None, 7, 30, 30, 32)     4640      \n",
      "_________________________________________________________________\n",
      "batch_normalization_69 (Batc (None, 7, 30, 30, 32)     128       \n",
      "_________________________________________________________________\n",
      "activation_43 (Activation)   (None, 7, 30, 30, 32)     0         \n",
      "_________________________________________________________________\n",
      "max_pooling3d_43 (MaxPooling (None, 3, 15, 15, 32)     0         \n",
      "_________________________________________________________________\n",
      "conv4 (Conv3D)               (None, 3, 15, 15, 64)     18496     \n",
      "_________________________________________________________________\n",
      "batch_normalization_70 (Batc (None, 3, 15, 15, 64)     256       \n",
      "_________________________________________________________________\n",
      "activation_44 (Activation)   (None, 3, 15, 15, 64)     0         \n",
      "_________________________________________________________________\n",
      "dropout_64 (Dropout)         (None, 3, 15, 15, 64)     0         \n",
      "_________________________________________________________________\n",
      "max_pooling3d_44 (MaxPooling (None, 1, 7, 7, 64)       0         \n",
      "_________________________________________________________________\n",
      "flatten_20 (Flatten)         (None, 3136)              0         \n",
      "_________________________________________________________________\n",
      "dense_58 (Dense)             (None, 256)               803072    \n",
      "_________________________________________________________________\n",
      "dropout_65 (Dropout)         (None, 256)               0         \n",
      "_________________________________________________________________\n",
      "dense_59 (Dense)             (None, 128)               32896     \n",
      "_________________________________________________________________\n",
      "dropout_66 (Dropout)         (None, 128)               0         \n",
      "_________________________________________________________________\n",
      "dense_60 (Dense)             (None, 5)                 645       \n",
      "=================================================================\n",
      "Total params: 864,357\n",
      "Trainable params: 864,117\n",
      "Non-trainable params: 240\n",
      "_________________________________________________________________\n",
      "None\n"
     ]
    }
   ],
   "source": [
    "optimiser = Adam()\n",
    "modelConv3D.compile(optimizer=optimiser, loss='categorical_crossentropy', metrics=['categorical_accuracy'])\n",
    "print (modelConv3D.summary())"
   ]
  },
  {
   "cell_type": "markdown",
   "metadata": {
    "colab_type": "text",
    "id": "C5ugNhHLRKL3"
   },
   "source": [
    "#### Checkpoint\n",
    "We will keep saving the best model's weights at models/best_models.hdf5. Model weights are usually saved in hdf5 files.\n",
    "\n",
    "Saving the best model is done using the callback functionality that comes with ModelCheckpoint. \n",
    "Specify the filepath where the model weights are to be saved, \n",
    "monitor='val_auc' specifies that you are choosing the best model based on validation accuracy, \n",
    "save_best_only=True saves only the best weights, \n",
    "mode='max' specifies that the validation accuracy is to be maximised."
   ]
  },
  {
   "cell_type": "code",
   "execution_count": 276,
   "metadata": {
    "colab": {},
    "colab_type": "code",
    "id": "7lphvCRoRKL4"
   },
   "outputs": [],
   "source": [
    "model_name = 'Conv3D' + '_' + str(curr_dt_time).replace(' ','').replace(':','_') + '/'\n",
    "    \n",
    "if not os.path.exists(model_name):\n",
    "    os.mkdir(model_name)\n",
    "        \n",
    "filepath = model_name + 'model-{epoch:05d}-{loss:.5f}-{categorical_accuracy:.5f}-{val_loss:.5f}-{val_categorical_accuracy:.5f}.h5'\n",
    "\n",
    "checkpoint = ModelCheckpoint(filepath, monitor='val_loss', verbose=1, save_best_only=True, save_weights_only=True, mode='auto', period=1)\n"
   ]
  },
  {
   "cell_type": "markdown",
   "metadata": {
    "colab_type": "text",
    "id": "3pqV7Kq6RKL_"
   },
   "source": [
    "\n",
    "#### Training (Fit) \n",
    "\n",
    "Fit the Base Model (Using Batch-Wise Data Generation)\n",
    "Let us now fit the model. This will start training the model and with the help of the checkpoints, you'll be able to save the model at the end of each epoch."
   ]
  },
  {
   "cell_type": "code",
   "execution_count": 277,
   "metadata": {},
   "outputs": [
    {
     "name": "stdout",
     "output_type": "stream",
     "text": [
      "# epochs = 60\n",
      "# Batch Size = 90\n"
     ]
    }
   ],
   "source": [
    "# Set Epochs and batch size\n",
    "num_epochs = 60\n",
    "print ('# epochs =', num_epochs)\n",
    "batch_size = 90\n",
    "print ('# Batch Size =', batch_size)"
   ]
  },
  {
   "cell_type": "markdown",
   "metadata": {
    "colab_type": "text",
    "id": "G_TqcfldRKMQ"
   },
   "source": [
    "The `steps_per_epoch` and `validation_steps` are used by `fit_generator` to decide the number of next() calls it need to make."
   ]
  },
  {
   "cell_type": "code",
   "execution_count": 278,
   "metadata": {
    "colab": {},
    "colab_type": "code",
    "id": "W-cDcKAKRKMR"
   },
   "outputs": [],
   "source": [
    "if (num_train_sequences%batch_size) == 0:\n",
    "    steps_per_epoch = int(num_train_sequences/batch_size)\n",
    "else:\n",
    "    steps_per_epoch = (num_train_sequences//batch_size) + 1\n",
    "\n",
    "if (num_val_sequences%batch_size) == 0:\n",
    "    validation_steps = int(num_val_sequences/batch_size)\n",
    "else:\n",
    "    validation_steps = (num_val_sequences//batch_size) + 1"
   ]
  },
  {
   "cell_type": "markdown",
   "metadata": {},
   "source": [
    "Create the `train_generator` and the `val_generator` which will be used in `.fit_generator`.\n",
    "When we use data generators, we use the `model.fit_generator` method rather than the usual `model.fit`."
   ]
  },
  {
   "cell_type": "code",
   "execution_count": 279,
   "metadata": {
    "colab": {},
    "colab_type": "code",
    "id": "nbW-geUARKMB"
   },
   "outputs": [],
   "source": [
    "train_generator = generator(train_path, train_doc, batch_size)\n",
    "val_generator = generator(val_path, val_doc, batch_size)"
   ]
  },
  {
   "cell_type": "code",
   "execution_count": 280,
   "metadata": {
    "colab": {},
    "colab_type": "code",
    "id": "WTwRj1B5RKMM"
   },
   "outputs": [],
   "source": [
    "LR = ReduceLROnPlateau(monitor='val_loss', factor=0.35, patience=2, cooldown=1, verbose=1)\n",
    "#LR = ReduceLROnPlateau(monitor='val_loss', factor=0.05, patience=2, cooldown=1, verbose=1,mode='auto',min_delta=0.0001)\n",
    "callbacks_list = [checkpoint, LR]"
   ]
  },
  {
   "cell_type": "markdown",
   "metadata": {
    "colab_type": "text",
    "id": "fyA8us2QRKMX"
   },
   "source": [
    "Let us now fit the model. This will start training the model and with the help of the checkpoints, you'll be able to save the model at the end of each epoch."
   ]
  },
  {
   "cell_type": "code",
   "execution_count": 281,
   "metadata": {
    "colab": {},
    "colab_type": "code",
    "id": "pmmSKcng7zhu",
    "outputId": "57a521d8-53aa-408d-ed87-1adab03c71e2"
   },
   "outputs": [
    {
     "name": "stdout",
     "output_type": "stream",
     "text": [
      "Source path =  Project_data/val ; batch size = 90\n",
      "Source path =  Project_data/train ; batch size = 90\n",
      "Epoch 1/60\n",
      "8/8 [==============================] - 50s 6s/step - loss: 2.8904 - categorical_accuracy: 0.2218 - val_loss: 1.6657 - val_categorical_accuracy: 0.2800\n",
      "\n",
      "Epoch 00001: val_loss improved from inf to 1.66567, saving model to Conv3D_2020-03-2814_54_12.024742/model-00001-2.96365-0.22021-1.66567-0.28000.h5\n",
      "Epoch 2/60\n",
      "8/8 [==============================] - 10s 1s/step - loss: 1.6751 - categorical_accuracy: 0.3750 - val_loss: 1.5236 - val_categorical_accuracy: 0.3500\n",
      "\n",
      "Epoch 00002: val_loss improved from 1.66567 to 1.52364, saving model to Conv3D_2020-03-2814_54_12.024742/model-00002-1.67513-0.37500-1.52364-0.35000.h5\n",
      "Epoch 3/60\n",
      "8/8 [==============================] - 18s 2s/step - loss: 1.5987 - categorical_accuracy: 0.3447 - val_loss: 2.0066 - val_categorical_accuracy: 0.1500\n",
      "\n",
      "Epoch 00003: val_loss did not improve from 1.52364\n",
      "Epoch 4/60\n",
      "8/8 [==============================] - 9s 1s/step - loss: 1.4467 - categorical_accuracy: 0.4503 - val_loss: 2.0652 - val_categorical_accuracy: 0.1500\n",
      "\n",
      "Epoch 00004: val_loss did not improve from 1.52364\n",
      "\n",
      "Epoch 00004: ReduceLROnPlateau reducing learning rate to 0.00035000001662410796.\n",
      "Epoch 5/60\n",
      "8/8 [==============================] - 1s 148ms/step - loss: 1.4499 - categorical_accuracy: 0.3750 - val_loss: 1.5758 - val_categorical_accuracy: 0.2500\n",
      "\n",
      "Epoch 00005: val_loss did not improve from 1.52364\n",
      "Epoch 6/60\n",
      "8/8 [==============================] - 1s 158ms/step - loss: 1.6495 - categorical_accuracy: 0.3333 - val_loss: 1.3090 - val_categorical_accuracy: 0.2500\n",
      "\n",
      "Epoch 00006: val_loss improved from 1.52364 to 1.30900, saving model to Conv3D_2020-03-2814_54_12.024742/model-00006-1.64950-0.33333-1.30900-0.25000.h5\n",
      "Epoch 7/60\n",
      "8/8 [==============================] - 2s 203ms/step - loss: 1.5721 - categorical_accuracy: 0.3333 - val_loss: 1.3676 - val_categorical_accuracy: 0.3500\n",
      "\n",
      "Epoch 00007: val_loss did not improve from 1.30900\n",
      "Epoch 8/60\n",
      "8/8 [==============================] - 2s 193ms/step - loss: 1.5695 - categorical_accuracy: 0.2917 - val_loss: 1.4107 - val_categorical_accuracy: 0.4000\n",
      "\n",
      "Epoch 00008: val_loss did not improve from 1.30900\n",
      "\n",
      "Epoch 00008: ReduceLROnPlateau reducing learning rate to 0.00012250000581843777.\n",
      "Epoch 9/60\n",
      "8/8 [==============================] - 2s 203ms/step - loss: 1.6059 - categorical_accuracy: 0.2500 - val_loss: 1.4367 - val_categorical_accuracy: 0.2000\n",
      "\n",
      "Epoch 00009: val_loss did not improve from 1.30900\n",
      "Epoch 10/60\n",
      "8/8 [==============================] - 2s 268ms/step - loss: 1.7129 - categorical_accuracy: 0.2917 - val_loss: 1.4384 - val_categorical_accuracy: 0.3500\n",
      "\n",
      "Epoch 00010: val_loss did not improve from 1.30900\n",
      "\n",
      "Epoch 00010: ReduceLROnPlateau reducing learning rate to 4.287500050850212e-05.\n",
      "Epoch 11/60\n",
      "8/8 [==============================] - 2s 233ms/step - loss: 1.4558 - categorical_accuracy: 0.3333 - val_loss: 1.2472 - val_categorical_accuracy: 0.4500\n",
      "\n",
      "Epoch 00011: val_loss improved from 1.30900 to 1.24717, saving model to Conv3D_2020-03-2814_54_12.024742/model-00011-1.45576-0.33333-1.24717-0.45000.h5\n",
      "Epoch 12/60\n",
      "8/8 [==============================] - 2s 244ms/step - loss: 1.2287 - categorical_accuracy: 0.5833 - val_loss: 1.2998 - val_categorical_accuracy: 0.5000\n",
      "\n",
      "Epoch 00012: val_loss did not improve from 1.24717\n",
      "Epoch 13/60\n",
      "8/8 [==============================] - 2s 237ms/step - loss: 1.2023 - categorical_accuracy: 0.4583 - val_loss: 1.1536 - val_categorical_accuracy: 0.5000\n",
      "\n",
      "Epoch 00013: val_loss improved from 1.24717 to 1.15356, saving model to Conv3D_2020-03-2814_54_12.024742/model-00013-1.20234-0.45833-1.15356-0.50000.h5\n",
      "Epoch 14/60\n",
      "8/8 [==============================] - 2s 259ms/step - loss: 1.7546 - categorical_accuracy: 0.1667 - val_loss: 1.1481 - val_categorical_accuracy: 0.5000\n",
      "\n",
      "Epoch 00014: val_loss improved from 1.15356 to 1.14814, saving model to Conv3D_2020-03-2814_54_12.024742/model-00014-1.75461-0.16667-1.14814-0.50000.h5\n",
      "Epoch 15/60\n",
      "8/8 [==============================] - 2s 235ms/step - loss: 1.4363 - categorical_accuracy: 0.3333 - val_loss: 1.3589 - val_categorical_accuracy: 0.4000\n",
      "\n",
      "Epoch 00015: val_loss did not improve from 1.14814\n",
      "Epoch 16/60\n",
      "8/8 [==============================] - 2s 236ms/step - loss: 1.4274 - categorical_accuracy: 0.4167 - val_loss: 1.3023 - val_categorical_accuracy: 0.3500\n",
      "\n",
      "Epoch 00016: val_loss did not improve from 1.14814\n",
      "\n",
      "Epoch 00016: ReduceLROnPlateau reducing learning rate to 1.500624966865871e-05.\n",
      "Epoch 17/60\n",
      "8/8 [==============================] - 1s 184ms/step - loss: 1.5222 - categorical_accuracy: 0.2917 - val_loss: 1.2707 - val_categorical_accuracy: 0.4000\n",
      "\n",
      "Epoch 00017: val_loss did not improve from 1.14814\n",
      "Epoch 18/60\n",
      "8/8 [==============================] - 2s 257ms/step - loss: 1.3108 - categorical_accuracy: 0.4167 - val_loss: 1.1307 - val_categorical_accuracy: 0.5500\n",
      "\n",
      "Epoch 00018: val_loss improved from 1.14814 to 1.13069, saving model to Conv3D_2020-03-2814_54_12.024742/model-00018-1.31078-0.41667-1.13069-0.55000.h5\n",
      "Epoch 19/60\n",
      "8/8 [==============================] - 2s 225ms/step - loss: 1.2678 - categorical_accuracy: 0.4167 - val_loss: 1.2153 - val_categorical_accuracy: 0.5500\n",
      "\n",
      "Epoch 00019: val_loss did not improve from 1.13069\n",
      "Epoch 20/60\n",
      "8/8 [==============================] - 2s 239ms/step - loss: 1.7756 - categorical_accuracy: 0.1667 - val_loss: 1.3331 - val_categorical_accuracy: 0.4500\n",
      "\n",
      "Epoch 00020: val_loss did not improve from 1.13069\n",
      "\n",
      "Epoch 00020: ReduceLROnPlateau reducing learning rate to 5.2521873840305485e-06.\n",
      "Epoch 21/60\n",
      "8/8 [==============================] - 2s 203ms/step - loss: 1.0489 - categorical_accuracy: 0.4583 - val_loss: 1.0790 - val_categorical_accuracy: 0.6500\n",
      "\n",
      "Epoch 00021: val_loss improved from 1.13069 to 1.07904, saving model to Conv3D_2020-03-2814_54_12.024742/model-00021-1.04892-0.45833-1.07904-0.65000.h5\n",
      "Epoch 22/60\n",
      "8/8 [==============================] - 2s 247ms/step - loss: 1.3913 - categorical_accuracy: 0.2917 - val_loss: 1.3452 - val_categorical_accuracy: 0.4500\n",
      "\n",
      "Epoch 00022: val_loss did not improve from 1.07904\n",
      "Epoch 23/60\n",
      "8/8 [==============================] - 2s 222ms/step - loss: 1.3586 - categorical_accuracy: 0.3750 - val_loss: 1.1909 - val_categorical_accuracy: 0.5500\n",
      "\n",
      "Epoch 00023: val_loss did not improve from 1.07904\n",
      "\n",
      "Epoch 00023: ReduceLROnPlateau reducing learning rate to 1.8382655525783774e-06.\n",
      "Epoch 24/60\n",
      "8/8 [==============================] - 2s 224ms/step - loss: 1.1760 - categorical_accuracy: 0.4583 - val_loss: 1.1446 - val_categorical_accuracy: 0.5500\n",
      "\n",
      "Epoch 00024: val_loss did not improve from 1.07904\n",
      "Epoch 25/60\n",
      "8/8 [==============================] - 1s 185ms/step - loss: 1.2051 - categorical_accuracy: 0.5000 - val_loss: 1.2310 - val_categorical_accuracy: 0.5000\n",
      "\n",
      "Epoch 00025: val_loss did not improve from 1.07904\n",
      "\n",
      "Epoch 00025: ReduceLROnPlateau reducing learning rate to 6.433929513605108e-07.\n",
      "Epoch 26/60\n",
      "8/8 [==============================] - 2s 225ms/step - loss: 1.0778 - categorical_accuracy: 0.5833 - val_loss: 1.0656 - val_categorical_accuracy: 0.6500\n",
      "\n",
      "Epoch 00026: val_loss improved from 1.07904 to 1.06562, saving model to Conv3D_2020-03-2814_54_12.024742/model-00026-1.07779-0.58333-1.06562-0.65000.h5\n",
      "Epoch 27/60\n",
      "8/8 [==============================] - 2s 234ms/step - loss: 1.3801 - categorical_accuracy: 0.3333 - val_loss: 1.0557 - val_categorical_accuracy: 0.6000\n",
      "\n",
      "Epoch 00027: val_loss improved from 1.06562 to 1.05566, saving model to Conv3D_2020-03-2814_54_12.024742/model-00027-1.38010-0.33333-1.05566-0.60000.h5\n",
      "Epoch 28/60\n",
      "8/8 [==============================] - 2s 242ms/step - loss: 1.3935 - categorical_accuracy: 0.3750 - val_loss: 1.2937 - val_categorical_accuracy: 0.5000\n",
      "\n",
      "Epoch 00028: val_loss did not improve from 1.05566\n",
      "Epoch 29/60\n",
      "8/8 [==============================] - 2s 212ms/step - loss: 1.3668 - categorical_accuracy: 0.3750 - val_loss: 1.2902 - val_categorical_accuracy: 0.4500\n",
      "\n",
      "Epoch 00029: val_loss did not improve from 1.05566\n",
      "\n",
      "Epoch 00029: ReduceLROnPlateau reducing learning rate to 2.2518752302858046e-07.\n",
      "Epoch 30/60\n",
      "8/8 [==============================] - 2s 256ms/step - loss: 1.4349 - categorical_accuracy: 0.4167 - val_loss: 1.1681 - val_categorical_accuracy: 0.5000\n"
     ]
    },
    {
     "name": "stdout",
     "output_type": "stream",
     "text": [
      "\n",
      "Epoch 00030: val_loss did not improve from 1.05566\n",
      "Epoch 31/60\n",
      "8/8 [==============================] - 2s 251ms/step - loss: 1.1854 - categorical_accuracy: 0.4583 - val_loss: 1.1490 - val_categorical_accuracy: 0.6500\n",
      "\n",
      "Epoch 00031: val_loss did not improve from 1.05566\n",
      "\n",
      "Epoch 00031: ReduceLROnPlateau reducing learning rate to 7.881563206524333e-08.\n",
      "Epoch 32/60\n",
      "8/8 [==============================] - 2s 304ms/step - loss: 1.7153 - categorical_accuracy: 0.2917 - val_loss: 1.3166 - val_categorical_accuracy: 0.3500\n",
      "\n",
      "Epoch 00032: val_loss did not improve from 1.05566\n",
      "Epoch 33/60\n",
      "8/8 [==============================] - 2s 230ms/step - loss: 1.2164 - categorical_accuracy: 0.5000 - val_loss: 1.1221 - val_categorical_accuracy: 0.6000\n",
      "\n",
      "Epoch 00033: val_loss did not improve from 1.05566\n",
      "\n",
      "Epoch 00033: ReduceLROnPlateau reducing learning rate to 2.758547097414521e-08.\n",
      "Epoch 34/60\n",
      "8/8 [==============================] - 2s 208ms/step - loss: 1.3726 - categorical_accuracy: 0.5000 - val_loss: 1.0971 - val_categorical_accuracy: 0.7000\n",
      "\n",
      "Epoch 00034: val_loss did not improve from 1.05566\n",
      "Epoch 35/60\n",
      "8/8 [==============================] - 2s 259ms/step - loss: 1.4523 - categorical_accuracy: 0.4583 - val_loss: 1.2796 - val_categorical_accuracy: 0.5000\n",
      "\n",
      "Epoch 00035: val_loss did not improve from 1.05566\n",
      "\n",
      "Epoch 00035: ReduceLROnPlateau reducing learning rate to 9.654915089640781e-09.\n",
      "Epoch 36/60\n",
      "8/8 [==============================] - 2s 217ms/step - loss: 1.1941 - categorical_accuracy: 0.5000 - val_loss: 1.1393 - val_categorical_accuracy: 0.5500\n",
      "\n",
      "Epoch 00036: val_loss did not improve from 1.05566\n",
      "Epoch 37/60\n",
      "8/8 [==============================] - 2s 243ms/step - loss: 1.0891 - categorical_accuracy: 0.5417 - val_loss: 1.3742 - val_categorical_accuracy: 0.3500\n",
      "\n",
      "Epoch 00037: val_loss did not improve from 1.05566\n",
      "\n",
      "Epoch 00037: ReduceLROnPlateau reducing learning rate to 3.379220281374273e-09.\n",
      "Epoch 38/60\n",
      "8/8 [==============================] - 2s 213ms/step - loss: 1.3460 - categorical_accuracy: 0.3750 - val_loss: 1.0435 - val_categorical_accuracy: 0.6500\n",
      "\n",
      "Epoch 00038: val_loss improved from 1.05566 to 1.04353, saving model to Conv3D_2020-03-2814_54_12.024742/model-00038-1.34595-0.37500-1.04353-0.65000.h5\n",
      "Epoch 39/60\n",
      "8/8 [==============================] - 2s 219ms/step - loss: 1.4231 - categorical_accuracy: 0.3750 - val_loss: 1.2988 - val_categorical_accuracy: 0.4500\n",
      "\n",
      "Epoch 00039: val_loss did not improve from 1.04353\n",
      "Epoch 40/60\n",
      "8/8 [==============================] - 2s 196ms/step - loss: 1.3907 - categorical_accuracy: 0.3750 - val_loss: 1.0572 - val_categorical_accuracy: 0.7000\n",
      "\n",
      "Epoch 00040: val_loss did not improve from 1.04353\n",
      "\n",
      "Epoch 00040: ReduceLROnPlateau reducing learning rate to 1.1827270829378733e-09.\n",
      "Epoch 41/60\n",
      "8/8 [==============================] - 2s 268ms/step - loss: 1.5878 - categorical_accuracy: 0.2500 - val_loss: 1.1918 - val_categorical_accuracy: 0.5000\n",
      "\n",
      "Epoch 00041: val_loss did not improve from 1.04353\n",
      "Epoch 42/60\n",
      "8/8 [==============================] - 2s 234ms/step - loss: 1.3217 - categorical_accuracy: 0.4583 - val_loss: 1.1132 - val_categorical_accuracy: 0.5500\n",
      "\n",
      "Epoch 00042: val_loss did not improve from 1.04353\n",
      "\n",
      "Epoch 00042: ReduceLROnPlateau reducing learning rate to 4.139544595993527e-10.\n",
      "Epoch 43/60\n",
      "8/8 [==============================] - 2s 236ms/step - loss: 1.3517 - categorical_accuracy: 0.4583 - val_loss: 1.1680 - val_categorical_accuracy: 0.5500\n",
      "\n",
      "Epoch 00043: val_loss did not improve from 1.04353\n",
      "Epoch 44/60\n",
      "8/8 [==============================] - 2s 277ms/step - loss: 1.1357 - categorical_accuracy: 0.4167 - val_loss: 1.2358 - val_categorical_accuracy: 0.5000\n",
      "\n",
      "Epoch 00044: val_loss did not improve from 1.04353\n",
      "\n",
      "Epoch 00044: ReduceLROnPlateau reducing learning rate to 1.4488405891688315e-10.\n",
      "Epoch 45/60\n",
      "8/8 [==============================] - 1s 185ms/step - loss: 1.3290 - categorical_accuracy: 0.4583 - val_loss: 1.2096 - val_categorical_accuracy: 0.5000\n",
      "\n",
      "Epoch 00045: val_loss did not improve from 1.04353\n",
      "Epoch 46/60\n",
      "8/8 [==============================] - 2s 208ms/step - loss: 1.4056 - categorical_accuracy: 0.2917 - val_loss: 1.2355 - val_categorical_accuracy: 0.6000\n",
      "\n",
      "Epoch 00046: val_loss did not improve from 1.04353\n",
      "\n",
      "Epoch 00046: ReduceLROnPlateau reducing learning rate to 5.070942207807682e-11.\n",
      "Epoch 47/60\n",
      "8/8 [==============================] - 2s 243ms/step - loss: 1.4806 - categorical_accuracy: 0.3750 - val_loss: 0.9980 - val_categorical_accuracy: 0.6000\n",
      "\n",
      "Epoch 00047: val_loss improved from 1.04353 to 0.99803, saving model to Conv3D_2020-03-2814_54_12.024742/model-00047-1.48064-0.37500-0.99803-0.60000.h5\n",
      "Epoch 48/60\n",
      "8/8 [==============================] - 2s 232ms/step - loss: 1.4067 - categorical_accuracy: 0.4167 - val_loss: 1.2271 - val_categorical_accuracy: 0.5500\n",
      "\n",
      "Epoch 00048: val_loss did not improve from 0.99803\n",
      "Epoch 49/60\n",
      "8/8 [==============================] - 2s 232ms/step - loss: 1.5046 - categorical_accuracy: 0.2500 - val_loss: 1.2054 - val_categorical_accuracy: 0.6000\n",
      "\n",
      "Epoch 00049: val_loss did not improve from 0.99803\n",
      "\n",
      "Epoch 00049: ReduceLROnPlateau reducing learning rate to 1.7748297970188175e-11.\n",
      "Epoch 50/60\n",
      "8/8 [==============================] - 2s 193ms/step - loss: 1.4785 - categorical_accuracy: 0.5000 - val_loss: 1.3050 - val_categorical_accuracy: 0.4500\n",
      "\n",
      "Epoch 00050: val_loss did not improve from 0.99803\n",
      "Epoch 51/60\n",
      "8/8 [==============================] - 2s 215ms/step - loss: 1.4406 - categorical_accuracy: 0.3750 - val_loss: 1.2229 - val_categorical_accuracy: 0.5000\n",
      "\n",
      "Epoch 00051: val_loss did not improve from 0.99803\n",
      "\n",
      "Epoch 00051: ReduceLROnPlateau reducing learning rate to 6.211904168135218e-12.\n",
      "Epoch 52/60\n",
      "8/8 [==============================] - 2s 230ms/step - loss: 1.2694 - categorical_accuracy: 0.4167 - val_loss: 1.1428 - val_categorical_accuracy: 0.4500\n",
      "\n",
      "Epoch 00052: val_loss did not improve from 0.99803\n",
      "Epoch 53/60\n",
      "8/8 [==============================] - 2s 221ms/step - loss: 1.2600 - categorical_accuracy: 0.4583 - val_loss: 1.2564 - val_categorical_accuracy: 0.6000\n",
      "\n",
      "Epoch 00053: val_loss did not improve from 0.99803\n",
      "\n",
      "Epoch 00053: ReduceLROnPlateau reducing learning rate to 2.174166489204987e-12.\n",
      "Epoch 54/60\n",
      "8/8 [==============================] - 2s 197ms/step - loss: 1.3632 - categorical_accuracy: 0.4167 - val_loss: 1.0359 - val_categorical_accuracy: 0.7000\n",
      "\n",
      "Epoch 00054: val_loss did not improve from 0.99803\n",
      "Epoch 55/60\n",
      "8/8 [==============================] - 2s 228ms/step - loss: 1.4555 - categorical_accuracy: 0.4167 - val_loss: 1.1881 - val_categorical_accuracy: 0.5000\n",
      "\n",
      "Epoch 00055: val_loss did not improve from 0.99803\n",
      "\n",
      "Epoch 00055: ReduceLROnPlateau reducing learning rate to 7.609582560429151e-13.\n",
      "Epoch 56/60\n",
      "8/8 [==============================] - 2s 204ms/step - loss: 1.3438 - categorical_accuracy: 0.3750 - val_loss: 1.3313 - val_categorical_accuracy: 0.4000\n",
      "\n",
      "Epoch 00056: val_loss did not improve from 0.99803\n",
      "Epoch 57/60\n",
      "8/8 [==============================] - 2s 230ms/step - loss: 1.7471 - categorical_accuracy: 0.3333 - val_loss: 1.1718 - val_categorical_accuracy: 0.4500\n",
      "\n",
      "Epoch 00057: val_loss did not improve from 0.99803\n",
      "\n",
      "Epoch 00057: ReduceLROnPlateau reducing learning rate to 2.6633538582031265e-13.\n",
      "Epoch 58/60\n",
      "8/8 [==============================] - 2s 232ms/step - loss: 1.4105 - categorical_accuracy: 0.4583 - val_loss: 1.1461 - val_categorical_accuracy: 0.5500\n",
      "\n",
      "Epoch 00058: val_loss did not improve from 0.99803\n",
      "Epoch 59/60\n",
      "8/8 [==============================] - 2s 247ms/step - loss: 1.2673 - categorical_accuracy: 0.3750 - val_loss: 1.3941 - val_categorical_accuracy: 0.3500\n",
      "\n",
      "Epoch 00059: val_loss did not improve from 0.99803\n",
      "\n",
      "Epoch 00059: ReduceLROnPlateau reducing learning rate to 9.321738124240183e-14.\n",
      "Epoch 60/60\n",
      "8/8 [==============================] - 2s 236ms/step - loss: 1.4124 - categorical_accuracy: 0.4167 - val_loss: 1.1560 - val_categorical_accuracy: 0.6000\n",
      "\n",
      "Epoch 00060: val_loss did not improve from 0.99803\n"
     ]
    }
   ],
   "source": [
    "history = modelConv3D.fit_generator(train_generator, steps_per_epoch=steps_per_epoch, epochs=num_epochs, verbose=1, \n",
    "                    callbacks=callbacks_list, validation_data=val_generator, \n",
    "                    validation_steps=validation_steps, class_weight=None, workers=2, initial_epoch=0)"
   ]
  },
  {
   "cell_type": "code",
   "execution_count": 282,
   "metadata": {
    "colab": {},
    "colab_type": "code",
    "id": "UIq9ySQkRKMf",
    "outputId": "0b61322b-86a6-433d-a3f0-d5fb43cf1d7e"
   },
   "outputs": [
    {
     "data": {
      "image/png": "[encoded data removed]",
      "text/plain": [
       "<Figure size 432x288 with 1 Axes>"
      ]
     },
     "metadata": {},
     "output_type": "display_data"
    }
   ],
   "source": [
    "N = num_epochs\n",
    "plt.style.use(\"ggplot\")\n",
    "plt.figure()\n",
    "#plt.plot(np.arange(0, N), history.history[\"loss\"], label=\"train_loss\")\n",
    "plt.plot(np.arange(0, N), history.history[\"val_loss\"], label=\"val_loss\")\n",
    "#plt.plot(np.arange(0, N), history.history[\"categorical_accuracy\"], label=\"train_acc\")\n",
    "plt.plot(np.arange(0, N), history.history[\"val_categorical_accuracy\"], label=\"val_acc\")\n",
    "plt.title(\"Training Loss and Accuracy on Dataset\")\n",
    "plt.xlabel(\"Epoch\")\n",
    "plt.ylabel(\"Loss/Accuracy\")\n",
    "plt.legend(loc=\"lower left\")\n",
    "plt.savefig(\"plot.png\")"
   ]
  },
  {
   "cell_type": "markdown",
   "metadata": {
    "colab_type": "text",
    "id": "iWOT0Rtu7zgp"
   },
   "source": [
    "### Conv2D + RNN"
   ]
  },
  {
   "cell_type": "code",
   "execution_count": 283,
   "metadata": {
    "colab": {},
    "colab_type": "code",
    "id": "fi2gp2He7zgq"
   },
   "outputs": [],
   "source": [
    "# Conv2D + RNN\n",
    "\n",
    "featuremap = [8,16,32,64,128]\n",
    "dense = [128,64,5]\n",
    "classes = 5\n",
    "\n",
    "input_shape=(frames,rows,cols,channels)\n",
    "\n",
    "modelConv2DRNN = Sequential()\n",
    "\n",
    "modelConv2DRNN.add(TimeDistributed(Conv2D(featuremap[0], (3, 3), strides=(2, 2),activation='relu', padding='same'), input_shape=input_shape))\n",
    "\n",
    "\n",
    "modelConv2DRNN.add(TimeDistributed(Conv2D(featuremap[1], (3,3),padding='same', activation='relu')))\n",
    "modelConv2DRNN.add(TimeDistributed(MaxPooling2D((2, 2), strides=(2, 2))))\n",
    "modelConv2DRNN.add(TimeDistributed(BatchNormalization()))\n",
    "\n",
    "\n",
    "modelConv2DRNN.add(TimeDistributed(Conv2D(featuremap[2], (3,3),padding='same', activation='relu')))\n",
    "modelConv2DRNN.add(TimeDistributed(MaxPooling2D((2, 2), strides=(2, 2))))\n",
    "modelConv2DRNN.add(TimeDistributed(BatchNormalization()))\n",
    "\n",
    "modelConv2DRNN.add(TimeDistributed(Conv2D(featuremap[3], (2,2),padding='same', activation='relu')))\n",
    "modelConv2DRNN.add(TimeDistributed(MaxPooling2D((2, 2), strides=(2, 2))))\n",
    "modelConv2DRNN.add(TimeDistributed(BatchNormalization()))\n",
    "modelConv2DRNN.add(Dropout(0.25))\n",
    "\n",
    "modelConv2DRNN.add(TimeDistributed(Conv2D(featuremap[4], (2,2),padding='same', activation='relu')))\n",
    "modelConv2DRNN.add(TimeDistributed(MaxPooling2D((2, 2), strides=(2, 2))))\n",
    "modelConv2DRNN.add(TimeDistributed(BatchNormalization()))\n",
    "#modelConv2DRNN.add(Dropout(0.25))\n",
    "\n",
    "modelConv2DRNN.add(TimeDistributed(Flatten()))\n",
    "\n",
    "modelConv2DRNN.add(Dense(dense[0], activation='relu'))\n",
    "modelConv2DRNN.add(Dropout(0.25))\n",
    "modelConv2DRNN.add(Dense(dense[1], activation='relu'))\n",
    "modelConv2DRNN.add(Dropout(0.25))\n",
    "\n",
    "#modelConv2DRNN.add(GRU(64, return_sequences=True))\n",
    "\n",
    "modelConv2DRNN.add(GRU(128, return_sequences=True))\n",
    "\n",
    "modelConv2DRNN.add(GRU(64, return_sequences=False))\n",
    "\n",
    "modelConv2DRNN.add(Dense(classes, activation='softmax'))"
   ]
  },
  {
   "cell_type": "markdown",
   "metadata": {
    "colab_type": "text",
    "id": "Tax7_jPbo2Tl"
   },
   "source": [
    "The next step is to `compile` the model. \n",
    "The `summary` of the model shows the total number of parameters you have to train."
   ]
  },
  {
   "cell_type": "code",
   "execution_count": 284,
   "metadata": {
    "colab": {},
    "colab_type": "code",
    "id": "AfGviv58o2Tn",
    "scrolled": true
   },
   "outputs": [
    {
     "name": "stdout",
     "output_type": "stream",
     "text": [
      "_________________________________________________________________\n",
      "Layer (type)                 Output Shape              Param #   \n",
      "=================================================================\n",
      "time_distributed_118 (TimeDi (None, 30, 60, 60, 8)     224       \n",
      "_________________________________________________________________\n",
      "time_distributed_119 (TimeDi (None, 30, 60, 60, 16)    1168      \n",
      "_________________________________________________________________\n",
      "time_distributed_120 (TimeDi (None, 30, 30, 30, 16)    0         \n",
      "_________________________________________________________________\n",
      "time_distributed_121 (TimeDi (None, 30, 30, 30, 16)    64        \n",
      "_________________________________________________________________\n",
      "time_distributed_122 (TimeDi (None, 30, 30, 30, 32)    4640      \n",
      "_________________________________________________________________\n",
      "time_distributed_123 (TimeDi (None, 30, 15, 15, 32)    0         \n",
      "_________________________________________________________________\n",
      "time_distributed_124 (TimeDi (None, 30, 15, 15, 32)    128       \n",
      "_________________________________________________________________\n",
      "time_distributed_125 (TimeDi (None, 30, 15, 15, 64)    8256      \n",
      "_________________________________________________________________\n",
      "time_distributed_126 (TimeDi (None, 30, 7, 7, 64)      0         \n",
      "_________________________________________________________________\n",
      "time_distributed_127 (TimeDi (None, 30, 7, 7, 64)      256       \n",
      "_________________________________________________________________\n",
      "dropout_67 (Dropout)         (None, 30, 7, 7, 64)      0         \n",
      "_________________________________________________________________\n",
      "time_distributed_128 (TimeDi (None, 30, 7, 7, 128)     32896     \n",
      "_________________________________________________________________\n",
      "time_distributed_129 (TimeDi (None, 30, 3, 3, 128)     0         \n",
      "_________________________________________________________________\n",
      "time_distributed_130 (TimeDi (None, 30, 3, 3, 128)     512       \n",
      "_________________________________________________________________\n",
      "time_distributed_131 (TimeDi (None, 30, 1152)          0         \n",
      "_________________________________________________________________\n",
      "dense_61 (Dense)             (None, 30, 128)           147584    \n",
      "_________________________________________________________________\n",
      "dropout_68 (Dropout)         (None, 30, 128)           0         \n",
      "_________________________________________________________________\n",
      "dense_62 (Dense)             (None, 30, 64)            8256      \n",
      "_________________________________________________________________\n",
      "dropout_69 (Dropout)         (None, 30, 64)            0         \n",
      "_________________________________________________________________\n",
      "gru_19 (GRU)                 (None, 30, 128)           74112     \n",
      "_________________________________________________________________\n",
      "gru_20 (GRU)                 (None, 64)                37056     \n",
      "_________________________________________________________________\n",
      "dense_63 (Dense)             (None, 5)                 325       \n",
      "=================================================================\n",
      "Total params: 315,477\n",
      "Trainable params: 314,997\n",
      "Non-trainable params: 480\n",
      "_________________________________________________________________\n",
      "None\n"
     ]
    }
   ],
   "source": [
    "optimiser = Adam()\n",
    "modelConv2DRNN.compile(optimizer=optimiser, loss='categorical_crossentropy', metrics=['categorical_accuracy'])\n",
    "print (modelConv2DRNN.summary())"
   ]
  },
  {
   "cell_type": "markdown",
   "metadata": {
    "colab_type": "text",
    "id": "C5ugNhHLRKL3"
   },
   "source": [
    "#### Checkpoint\n",
    "We will keep saving the best model's weights at models/best_models.hdf5. Model weights are usually saved in hdf5 files.\n",
    "\n",
    "Saving the best model is done using the callback functionality that comes with ModelCheckpoint. \n",
    "Specify the filepath where the model weights are to be saved, \n",
    "monitor='val_auc' specifies that you are choosing the best model based on validation accuracy, \n",
    "save_best_only=True saves only the best weights, \n",
    "mode='max' specifies that the validation accuracy is to be maximised."
   ]
  },
  {
   "cell_type": "code",
   "execution_count": 285,
   "metadata": {
    "colab": {},
    "colab_type": "code",
    "id": "7lphvCRoRKL4"
   },
   "outputs": [],
   "source": [
    "model_name = 'Conv2DRNN' + '_' + str(curr_dt_time).replace(' ','').replace(':','_') + '/'\n",
    "    \n",
    "if not os.path.exists(model_name):\n",
    "    os.mkdir(model_name)\n",
    "        \n",
    "filepath = model_name + 'model-{epoch:05d}-{loss:.5f}-{categorical_accuracy:.5f}-{val_loss:.5f}-{val_categorical_accuracy:.5f}.h5'\n",
    "\n",
    "checkpoint = ModelCheckpoint(filepath, monitor='val_loss', verbose=1, save_best_only=True, save_weights_only=True, mode='auto', period=1)\n"
   ]
  },
  {
   "cell_type": "markdown",
   "metadata": {
    "colab_type": "text",
    "id": "3pqV7Kq6RKL_"
   },
   "source": [
    "\n",
    "#### Training (Fit) \n",
    "\n",
    "Fit the Base Model (Using Batch-Wise Data Generation)\n",
    "Let us now fit the model. This will start training the model and with the help of the checkpoints, you'll be able to save the model at the end of each epoch."
   ]
  },
  {
   "cell_type": "code",
   "execution_count": 286,
   "metadata": {},
   "outputs": [
    {
     "name": "stdout",
     "output_type": "stream",
     "text": [
      "# epochs = 60\n",
      "# Batch Size = 90\n"
     ]
    }
   ],
   "source": [
    "# Set Epochs and batch size\n",
    "num_epochs = 60\n",
    "print ('# epochs =', num_epochs)\n",
    "batch_size = 90\n",
    "print ('# Batch Size =', batch_size)"
   ]
  },
  {
   "cell_type": "markdown",
   "metadata": {
    "colab_type": "text",
    "id": "G_TqcfldRKMQ"
   },
   "source": [
    "The `steps_per_epoch` and `validation_steps` are used by `fit_generator` to decide the number of next() calls it need to make."
   ]
  },
  {
   "cell_type": "code",
   "execution_count": 287,
   "metadata": {
    "colab": {},
    "colab_type": "code",
    "id": "W-cDcKAKRKMR"
   },
   "outputs": [],
   "source": [
    "if (num_train_sequences%batch_size) == 0:\n",
    "    steps_per_epoch = int(num_train_sequences/batch_size)\n",
    "else:\n",
    "    steps_per_epoch = (num_train_sequences//batch_size) + 1\n",
    "\n",
    "if (num_val_sequences%batch_size) == 0:\n",
    "    validation_steps = int(num_val_sequences/batch_size)\n",
    "else:\n",
    "    validation_steps = (num_val_sequences//batch_size) + 1"
   ]
  },
  {
   "cell_type": "markdown",
   "metadata": {},
   "source": [
    "Create the `train_generator` and the `val_generator` which will be used in `.fit_generator`.\n",
    "When we use data generators, we use the `model.fit_generator` method rather than the usual `model.fit`."
   ]
  },
  {
   "cell_type": "code",
   "execution_count": 288,
   "metadata": {
    "colab": {},
    "colab_type": "code",
    "id": "nbW-geUARKMB"
   },
   "outputs": [],
   "source": [
    "train_generator = generator(train_path, train_doc, batch_size)\n",
    "val_generator = generator(val_path, val_doc, batch_size)"
   ]
  },
  {
   "cell_type": "code",
   "execution_count": 289,
   "metadata": {
    "colab": {},
    "colab_type": "code",
    "id": "WTwRj1B5RKMM"
   },
   "outputs": [],
   "source": [
    "LR = ReduceLROnPlateau(monitor='val_loss', factor=0.35, patience=3, cooldown=1, verbose=1)\n",
    "#LR = ReduceLROnPlateau(monitor='val_loss', factor=0.05, patience=3, cooldown=1, verbose=1,mode='auto',min_delta=0.0001)\n",
    "callbacks_list = [checkpoint, LR]"
   ]
  },
  {
   "cell_type": "markdown",
   "metadata": {
    "colab_type": "text",
    "id": "fyA8us2QRKMX"
   },
   "source": [
    "Let us now fit the model. This will start training the model and with the help of the checkpoints, you'll be able to save the model at the end of each epoch."
   ]
  },
  {
   "cell_type": "code",
   "execution_count": 290,
   "metadata": {
    "colab": {
     "base_uri": "https://localhost:8080/",
     "height": 241
    },
    "colab_type": "code",
    "id": "da3ys5Fk7zhW",
    "outputId": "4e1cfdc7-fab9-4e1d-da0c-5f04373a3f44"
   },
   "outputs": [
    {
     "name": "stdout",
     "output_type": "stream",
     "text": [
      "Source path =  Project_data/val ; batch size = 90\n",
      "Source path =  Project_data/train Epoch 1/60\n",
      "; batch size = 90\n",
      "8/8 [==============================] - 47s 6s/step - loss: 1.3722 - categorical_accuracy: 0.3756 - val_loss: 1.1175 - val_categorical_accuracy: 0.6200\n",
      "\n",
      "Epoch 00001: val_loss improved from inf to 1.11750, saving model to Conv2DRNN_2020-03-2814_54_12.024742/model-00001-1.39707-0.36048-1.11750-0.62000.h5\n",
      "Epoch 2/60\n",
      "8/8 [==============================] - 7s 935ms/step - loss: 1.0788 - categorical_accuracy: 0.5530 - val_loss: 1.1529 - val_categorical_accuracy: 0.6000\n",
      "\n",
      "Epoch 00002: val_loss did not improve from 1.11750\n",
      "Epoch 3/60\n",
      "8/8 [==============================] - 18s 2s/step - loss: 0.9414 - categorical_accuracy: 0.6212 - val_loss: 1.1938 - val_categorical_accuracy: 0.5500\n",
      "\n",
      "Epoch 00003: val_loss did not improve from 1.11750\n",
      "Epoch 4/60\n",
      "8/8 [==============================] - 11s 1s/step - loss: 1.0396 - categorical_accuracy: 0.6537 - val_loss: 0.8548 - val_categorical_accuracy: 0.7500\n",
      "\n",
      "Epoch 00004: val_loss improved from 1.11750 to 0.85483, saving model to Conv2DRNN_2020-03-2814_54_12.024742/model-00004-0.86133-0.70139-0.85483-0.75000.h5\n",
      "Epoch 5/60\n",
      "8/8 [==============================] - 2s 231ms/step - loss: 1.3079 - categorical_accuracy: 0.5000 - val_loss: 1.4693 - val_categorical_accuracy: 0.5000\n",
      "\n",
      "Epoch 00005: val_loss did not improve from 0.85483\n",
      "Epoch 6/60\n",
      "8/8 [==============================] - 2s 255ms/step - loss: 1.6451 - categorical_accuracy: 0.3333 - val_loss: 0.9011 - val_categorical_accuracy: 0.6000\n",
      "\n",
      "Epoch 00006: val_loss did not improve from 0.85483\n",
      "Epoch 7/60\n",
      "8/8 [==============================] - 2s 242ms/step - loss: 1.0357 - categorical_accuracy: 0.4583 - val_loss: 2.3365 - val_categorical_accuracy: 0.1500\n",
      "\n",
      "Epoch 00007: val_loss did not improve from 0.85483\n",
      "\n",
      "Epoch 00007: ReduceLROnPlateau reducing learning rate to 0.00035000001662410796.\n",
      "Epoch 8/60\n",
      "8/8 [==============================] - 2s 203ms/step - loss: 1.1652 - categorical_accuracy: 0.4167 - val_loss: 1.2365 - val_categorical_accuracy: 0.4000\n",
      "\n",
      "Epoch 00008: val_loss did not improve from 0.85483\n",
      "Epoch 9/60\n",
      "8/8 [==============================] - 2s 226ms/step - loss: 1.2560 - categorical_accuracy: 0.5833 - val_loss: 1.0400 - val_categorical_accuracy: 0.3500\n",
      "\n",
      "Epoch 00009: val_loss did not improve from 0.85483\n",
      "Epoch 10/60\n",
      "8/8 [==============================] - 2s 216ms/step - loss: 1.1413 - categorical_accuracy: 0.5000 - val_loss: 1.0785 - val_categorical_accuracy: 0.6000\n",
      "\n",
      "Epoch 00010: val_loss did not improve from 0.85483\n",
      "\n",
      "Epoch 00010: ReduceLROnPlateau reducing learning rate to 0.00012250000581843777.\n",
      "Epoch 11/60\n",
      "8/8 [==============================] - 2s 219ms/step - loss: 0.8571 - categorical_accuracy: 0.7083 - val_loss: 1.7766 - val_categorical_accuracy: 0.4000\n",
      "\n",
      "Epoch 00011: val_loss did not improve from 0.85483\n",
      "Epoch 12/60\n",
      "8/8 [==============================] - 2s 277ms/step - loss: 1.1215 - categorical_accuracy: 0.4583 - val_loss: 0.9964 - val_categorical_accuracy: 0.6000\n",
      "\n",
      "Epoch 00012: val_loss did not improve from 0.85483\n",
      "Epoch 13/60\n",
      "8/8 [==============================] - 2s 258ms/step - loss: 0.9333 - categorical_accuracy: 0.6667 - val_loss: 1.3813 - val_categorical_accuracy: 0.5500\n",
      "\n",
      "Epoch 00013: val_loss did not improve from 0.85483\n",
      "\n",
      "Epoch 00013: ReduceLROnPlateau reducing learning rate to 4.287500050850212e-05.\n",
      "Epoch 14/60\n",
      "8/8 [==============================] - 2s 249ms/step - loss: 1.1695 - categorical_accuracy: 0.5000 - val_loss: 1.3901 - val_categorical_accuracy: 0.5000\n",
      "\n",
      "Epoch 00014: val_loss did not improve from 0.85483\n",
      "Epoch 15/60\n",
      "8/8 [==============================] - 2s 301ms/step - loss: 0.9684 - categorical_accuracy: 0.6667 - val_loss: 0.9709 - val_categorical_accuracy: 0.8000\n",
      "\n",
      "Epoch 00015: val_loss did not improve from 0.85483\n",
      "Epoch 16/60\n",
      "8/8 [==============================] - 2s 267ms/step - loss: 0.9319 - categorical_accuracy: 0.6250 - val_loss: 1.2279 - val_categorical_accuracy: 0.6000\n",
      "\n",
      "Epoch 00016: val_loss did not improve from 0.85483\n",
      "\n",
      "Epoch 00016: ReduceLROnPlateau reducing learning rate to 1.500624966865871e-05.\n",
      "Epoch 17/60\n",
      "8/8 [==============================] - 2s 221ms/step - loss: 0.8486 - categorical_accuracy: 0.7500 - val_loss: 0.8633 - val_categorical_accuracy: 0.7000\n",
      "\n",
      "Epoch 00017: val_loss did not improve from 0.85483\n",
      "Epoch 18/60\n",
      "8/8 [==============================] - 2s 219ms/step - loss: 1.1781 - categorical_accuracy: 0.5000 - val_loss: 1.2461 - val_categorical_accuracy: 0.6000\n",
      "\n",
      "Epoch 00018: val_loss did not improve from 0.85483\n",
      "Epoch 19/60\n",
      "8/8 [==============================] - 2s 265ms/step - loss: 1.0101 - categorical_accuracy: 0.6250 - val_loss: 1.0415 - val_categorical_accuracy: 0.6500\n",
      "\n",
      "Epoch 00019: val_loss did not improve from 0.85483\n",
      "\n",
      "Epoch 00019: ReduceLROnPlateau reducing learning rate to 5.2521873840305485e-06.\n",
      "Epoch 20/60\n",
      "8/8 [==============================] - 2s 289ms/step - loss: 1.1388 - categorical_accuracy: 0.5417 - val_loss: 0.9699 - val_categorical_accuracy: 0.6000\n",
      "\n",
      "Epoch 00020: val_loss did not improve from 0.85483\n",
      "Epoch 21/60\n",
      "8/8 [==============================] - 2s 240ms/step - loss: 1.0169 - categorical_accuracy: 0.5000 - val_loss: 1.4346 - val_categorical_accuracy: 0.5000\n",
      "\n",
      "Epoch 00021: val_loss did not improve from 0.85483\n",
      "Epoch 22/60\n",
      "8/8 [==============================] - 2s 265ms/step - loss: 0.9057 - categorical_accuracy: 0.7083 - val_loss: 0.9770 - val_categorical_accuracy: 0.7000\n",
      "\n",
      "Epoch 00022: val_loss did not improve from 0.85483\n",
      "\n",
      "Epoch 00022: ReduceLROnPlateau reducing learning rate to 1.8382655525783774e-06.\n",
      "Epoch 23/60\n",
      "8/8 [==============================] - 2s 243ms/step - loss: 0.9513 - categorical_accuracy: 0.6250 - val_loss: 0.9954 - val_categorical_accuracy: 0.5500\n",
      "\n",
      "Epoch 00023: val_loss did not improve from 0.85483\n",
      "Epoch 24/60\n",
      "8/8 [==============================] - 2s 271ms/step - loss: 1.2997 - categorical_accuracy: 0.5000 - val_loss: 1.3071 - val_categorical_accuracy: 0.5000\n",
      "\n",
      "Epoch 00024: val_loss did not improve from 0.85483\n",
      "Epoch 25/60\n",
      "8/8 [==============================] - 2s 220ms/step - loss: 1.0194 - categorical_accuracy: 0.6667 - val_loss: 0.7126 - val_categorical_accuracy: 0.8000\n",
      "\n",
      "Epoch 00025: val_loss improved from 0.85483 to 0.71256, saving model to Conv2DRNN_2020-03-2814_54_12.024742/model-00025-1.01942-0.66667-0.71256-0.80000.h5\n",
      "Epoch 26/60\n",
      "8/8 [==============================] - 2s 235ms/step - loss: 0.8778 - categorical_accuracy: 0.7083 - val_loss: 1.2665 - val_categorical_accuracy: 0.5000\n",
      "\n",
      "Epoch 00026: val_loss did not improve from 0.71256\n",
      "Epoch 27/60\n",
      "8/8 [==============================] - 2s 207ms/step - loss: 0.9392 - categorical_accuracy: 0.7083 - val_loss: 0.7014 - val_categorical_accuracy: 0.7000\n",
      "\n",
      "Epoch 00027: val_loss improved from 0.71256 to 0.70138, saving model to Conv2DRNN_2020-03-2814_54_12.024742/model-00027-0.93925-0.70833-0.70138-0.70000.h5\n",
      "Epoch 28/60\n",
      "8/8 [==============================] - 2s 250ms/step - loss: 1.0280 - categorical_accuracy: 0.6667 - val_loss: 1.2329 - val_categorical_accuracy: 0.5500\n",
      "\n",
      "Epoch 00028: val_loss did not improve from 0.70138\n",
      "Epoch 29/60\n",
      "8/8 [==============================] - 2s 236ms/step - loss: 0.8893 - categorical_accuracy: 0.6667 - val_loss: 0.9647 - val_categorical_accuracy: 0.7500\n",
      "\n",
      "Epoch 00029: val_loss did not improve from 0.70138\n",
      "Epoch 30/60\n",
      "8/8 [==============================] - 2s 218ms/step - loss: 0.9775 - categorical_accuracy: 0.7083 - val_loss: 0.9193 - val_categorical_accuracy: 0.6500\n",
      "\n",
      "Epoch 00030: val_loss did not improve from 0.70138\n",
      "\n",
      "Epoch 00030: ReduceLROnPlateau reducing learning rate to 6.433929513605108e-07.\n",
      "Epoch 31/60\n",
      "8/8 [==============================] - 2s 263ms/step - loss: 0.7706 - categorical_accuracy: 0.7083 - val_loss: 1.3711 - val_categorical_accuracy: 0.4500\n",
      "\n",
      "Epoch 00031: val_loss did not improve from 0.70138\n",
      "Epoch 32/60\n",
      "8/8 [==============================] - 2s 270ms/step - loss: 0.7827 - categorical_accuracy: 0.7917 - val_loss: 1.0400 - val_categorical_accuracy: 0.6000\n",
      "\n",
      "Epoch 00032: val_loss did not improve from 0.70138\n",
      "Epoch 33/60\n",
      "8/8 [==============================] - 2s 254ms/step - loss: 1.1765 - categorical_accuracy: 0.6250 - val_loss: 1.0912 - val_categorical_accuracy: 0.7000\n",
      "\n",
      "Epoch 00033: val_loss did not improve from 0.70138\n",
      "\n",
      "Epoch 00033: ReduceLROnPlateau reducing learning rate to 2.2518752302858046e-07.\n",
      "Epoch 34/60\n"
     ]
    },
    {
     "name": "stdout",
     "output_type": "stream",
     "text": [
      "8/8 [==============================] - 2s 221ms/step - loss: 1.0432 - categorical_accuracy: 0.6250 - val_loss: 0.7409 - val_categorical_accuracy: 0.7500\n",
      "\n",
      "Epoch 00034: val_loss did not improve from 0.70138\n",
      "Epoch 35/60\n",
      "8/8 [==============================] - 2s 219ms/step - loss: 0.8056 - categorical_accuracy: 0.7083 - val_loss: 1.0993 - val_categorical_accuracy: 0.4500\n",
      "\n",
      "Epoch 00035: val_loss did not improve from 0.70138\n",
      "Epoch 36/60\n",
      "8/8 [==============================] - 2s 303ms/step - loss: 1.1640 - categorical_accuracy: 0.5833 - val_loss: 1.1016 - val_categorical_accuracy: 0.7500\n",
      "\n",
      "Epoch 00036: val_loss did not improve from 0.70138\n",
      "\n",
      "Epoch 00036: ReduceLROnPlateau reducing learning rate to 7.881563206524333e-08.\n",
      "Epoch 37/60\n",
      "8/8 [==============================] - 2s 234ms/step - loss: 0.8959 - categorical_accuracy: 0.7500 - val_loss: 1.1461 - val_categorical_accuracy: 0.5000\n",
      "\n",
      "Epoch 00037: val_loss did not improve from 0.70138\n",
      "Epoch 38/60\n",
      "8/8 [==============================] - 2s 288ms/step - loss: 0.9064 - categorical_accuracy: 0.7500 - val_loss: 0.6643 - val_categorical_accuracy: 0.8000\n",
      "\n",
      "Epoch 00038: val_loss improved from 0.70138 to 0.66432, saving model to Conv2DRNN_2020-03-2814_54_12.024742/model-00038-0.90638-0.75000-0.66432-0.80000.h5\n",
      "Epoch 39/60\n",
      "8/8 [==============================] - 2s 298ms/step - loss: 1.0405 - categorical_accuracy: 0.7083 - val_loss: 0.9291 - val_categorical_accuracy: 0.7500\n",
      "\n",
      "Epoch 00039: val_loss did not improve from 0.66432\n",
      "Epoch 40/60\n",
      "8/8 [==============================] - 2s 292ms/step - loss: 1.0938 - categorical_accuracy: 0.5417 - val_loss: 1.1494 - val_categorical_accuracy: 0.6000\n",
      "\n",
      "Epoch 00040: val_loss did not improve from 0.66432\n",
      "Epoch 41/60\n",
      "8/8 [==============================] - 2s 264ms/step - loss: 0.9012 - categorical_accuracy: 0.6667 - val_loss: 1.1196 - val_categorical_accuracy: 0.6500\n",
      "\n",
      "Epoch 00041: val_loss did not improve from 0.66432\n",
      "\n",
      "Epoch 00041: ReduceLROnPlateau reducing learning rate to 2.758547097414521e-08.\n",
      "Epoch 42/60\n",
      "8/8 [==============================] - 2s 226ms/step - loss: 0.9463 - categorical_accuracy: 0.6250 - val_loss: 0.9850 - val_categorical_accuracy: 0.8000\n",
      "\n",
      "Epoch 00042: val_loss did not improve from 0.66432\n",
      "Epoch 43/60\n",
      "8/8 [==============================] - 2s 236ms/step - loss: 0.8485 - categorical_accuracy: 0.6667 - val_loss: 1.2200 - val_categorical_accuracy: 0.6000\n",
      "\n",
      "Epoch 00043: val_loss did not improve from 0.66432\n",
      "Epoch 44/60\n",
      "8/8 [==============================] - 2s 228ms/step - loss: 0.7091 - categorical_accuracy: 0.7917 - val_loss: 0.6049 - val_categorical_accuracy: 0.7500\n",
      "\n",
      "Epoch 00044: val_loss improved from 0.66432 to 0.60487, saving model to Conv2DRNN_2020-03-2814_54_12.024742/model-00044-0.70908-0.79167-0.60487-0.75000.h5\n",
      "Epoch 45/60\n",
      "8/8 [==============================] - 2s 230ms/step - loss: 0.7683 - categorical_accuracy: 0.7083 - val_loss: 1.1513 - val_categorical_accuracy: 0.5000\n",
      "\n",
      "Epoch 00045: val_loss did not improve from 0.60487\n",
      "Epoch 46/60\n",
      "8/8 [==============================] - 2s 255ms/step - loss: 1.0207 - categorical_accuracy: 0.6250 - val_loss: 1.0651 - val_categorical_accuracy: 0.6000\n",
      "\n",
      "Epoch 00046: val_loss did not improve from 0.60487\n",
      "Epoch 47/60\n",
      "8/8 [==============================] - 2s 289ms/step - loss: 1.0092 - categorical_accuracy: 0.6667 - val_loss: 1.1132 - val_categorical_accuracy: 0.5500\n",
      "\n",
      "Epoch 00047: val_loss did not improve from 0.60487\n",
      "\n",
      "Epoch 00047: ReduceLROnPlateau reducing learning rate to 9.654915089640781e-09.\n",
      "Epoch 48/60\n",
      "8/8 [==============================] - 2s 262ms/step - loss: 0.8179 - categorical_accuracy: 0.7500 - val_loss: 0.9798 - val_categorical_accuracy: 0.6500\n",
      "\n",
      "Epoch 00048: val_loss did not improve from 0.60487\n",
      "Epoch 49/60\n",
      "8/8 [==============================] - 2s 268ms/step - loss: 0.8106 - categorical_accuracy: 0.6667 - val_loss: 1.0905 - val_categorical_accuracy: 0.6500\n",
      "\n",
      "Epoch 00049: val_loss did not improve from 0.60487\n",
      "Epoch 50/60\n",
      "8/8 [==============================] - 2s 237ms/step - loss: 0.7833 - categorical_accuracy: 0.7500 - val_loss: 0.8811 - val_categorical_accuracy: 0.7000\n",
      "\n",
      "Epoch 00050: val_loss did not improve from 0.60487\n",
      "\n",
      "Epoch 00050: ReduceLROnPlateau reducing learning rate to 3.379220281374273e-09.\n",
      "Epoch 51/60\n",
      "8/8 [==============================] - 2s 224ms/step - loss: 0.8862 - categorical_accuracy: 0.6667 - val_loss: 0.9465 - val_categorical_accuracy: 0.7500\n",
      "\n",
      "Epoch 00051: val_loss did not improve from 0.60487\n",
      "Epoch 52/60\n",
      "8/8 [==============================] - 2s 215ms/step - loss: 0.6551 - categorical_accuracy: 0.8333 - val_loss: 0.9723 - val_categorical_accuracy: 0.7500\n",
      "\n",
      "Epoch 00052: val_loss did not improve from 0.60487\n",
      "Epoch 53/60\n",
      "8/8 [==============================] - 2s 215ms/step - loss: 0.8422 - categorical_accuracy: 0.7083 - val_loss: 1.0632 - val_categorical_accuracy: 0.7000\n",
      "\n",
      "Epoch 00053: val_loss did not improve from 0.60487\n",
      "\n",
      "Epoch 00053: ReduceLROnPlateau reducing learning rate to 1.1827270829378733e-09.\n",
      "Epoch 54/60\n",
      "8/8 [==============================] - 2s 259ms/step - loss: 0.7605 - categorical_accuracy: 0.7083 - val_loss: 0.8305 - val_categorical_accuracy: 0.6500\n",
      "\n",
      "Epoch 00054: val_loss did not improve from 0.60487\n",
      "Epoch 55/60\n",
      "8/8 [==============================] - 2s 221ms/step - loss: 0.7920 - categorical_accuracy: 0.6250 - val_loss: 0.8528 - val_categorical_accuracy: 0.6500\n",
      "\n",
      "Epoch 00055: val_loss did not improve from 0.60487\n",
      "Epoch 56/60\n",
      "8/8 [==============================] - 2s 244ms/step - loss: 0.9001 - categorical_accuracy: 0.7500 - val_loss: 1.3293 - val_categorical_accuracy: 0.5000\n",
      "\n",
      "Epoch 00056: val_loss did not improve from 0.60487\n",
      "\n",
      "Epoch 00056: ReduceLROnPlateau reducing learning rate to 4.139544595993527e-10.\n",
      "Epoch 57/60\n",
      "8/8 [==============================] - 2s 239ms/step - loss: 1.0633 - categorical_accuracy: 0.5833 - val_loss: 0.8038 - val_categorical_accuracy: 0.8000\n",
      "\n",
      "Epoch 00057: val_loss did not improve from 0.60487\n",
      "Epoch 58/60\n",
      "8/8 [==============================] - 2s 219ms/step - loss: 0.9369 - categorical_accuracy: 0.6250 - val_loss: 0.8810 - val_categorical_accuracy: 0.6500\n",
      "\n",
      "Epoch 00058: val_loss did not improve from 0.60487\n",
      "Epoch 59/60\n",
      "8/8 [==============================] - 2s 254ms/step - loss: 0.7024 - categorical_accuracy: 0.7500 - val_loss: 0.9551 - val_categorical_accuracy: 0.5500\n",
      "\n",
      "Epoch 00059: val_loss did not improve from 0.60487\n",
      "\n",
      "Epoch 00059: ReduceLROnPlateau reducing learning rate to 1.4488405891688315e-10.\n",
      "Epoch 60/60\n",
      "8/8 [==============================] - 2s 220ms/step - loss: 0.9105 - categorical_accuracy: 0.7083 - val_loss: 1.3935 - val_categorical_accuracy: 0.5000\n",
      "\n",
      "Epoch 00060: val_loss did not improve from 0.60487\n"
     ]
    }
   ],
   "source": [
    "history = modelConv2DRNN.fit_generator(train_generator, steps_per_epoch=steps_per_epoch, epochs=num_epochs, verbose=1, \n",
    "                    callbacks=callbacks_list, validation_data=val_generator, \n",
    "                    validation_steps=validation_steps, class_weight=None, workers=1, initial_epoch=0)"
   ]
  },
  {
   "cell_type": "code",
   "execution_count": 291,
   "metadata": {
    "colab": {},
    "colab_type": "code",
    "id": "dN2HpMLuo2UH"
   },
   "outputs": [
    {
     "data": {
      "image/png": "[encoded data removed]",
      "text/plain": [
       "<Figure size 432x288 with 1 Axes>"
      ]
     },
     "metadata": {},
     "output_type": "display_data"
    }
   ],
   "source": [
    "N = num_epochs\n",
    "plt.style.use(\"ggplot\")\n",
    "plt.figure()\n",
    "#plt.plot(np.arange(0, N), history.history[\"loss\"], label=\"train_loss\")\n",
    "plt.plot(np.arange(0, N), history.history[\"val_loss\"], label=\"val_loss\")\n",
    "#plt.plot(np.arange(0, N), history.history[\"categorical_accuracy\"], label=\"train_acc\")\n",
    "plt.plot(np.arange(0, N), history.history[\"val_categorical_accuracy\"], label=\"val_acc\")\n",
    "plt.title(\"Training Loss and Accuracy on Dataset\")\n",
    "plt.xlabel(\"Epoch\")\n",
    "plt.ylabel(\"Loss/Accuracy\")\n",
    "plt.legend(loc=\"lower left\")\n",
    "plt.savefig(\"plot.png\")"
   ]
  },
  {
   "cell_type": "markdown",
   "metadata": {
    "colab": {},
    "colab_type": "code",
    "id": "hwTBVRBcRKMk"
   },
   "source": [
    "------------- End of Program --------------"
   ]
  },
  {
   "cell_type": "code",
   "execution_count": null,
   "metadata": {
    "colab": {},
    "colab_type": "code",
    "id": "K_xj-J3g5ELD"
   },
   "outputs": [],
   "source": []
  },
  {
   "cell_type": "code",
   "execution_count": null,
   "metadata": {
    "colab": {},
    "colab_type": "code",
    "id": "d6CCAndS5EBt"
   },
   "outputs": [],
   "source": []
  }
 ],
 "metadata": {
  "colab": {
   "name": "Neural_Nets_Project_NimbleBox_V7_0_.ipynb",
   "provenance": [],
   "toc_visible": true
  },
  "kernelspec": {
   "display_name": "Python 3",
   "language": "python",
   "name": "python3"
  },
  "language_info": {
   "codemirror_mode": {
    "name": "ipython",
    "version": 3
   },
   "file_extension": ".py",
   "mimetype": "text/x-python",
   "name": "python",
   "nbconvert_exporter": "python",
   "pygments_lexer": "ipython3",
   "version": "3.6.8"
  }
 },
 "nbformat": 4,
 "nbformat_minor": 1
}
